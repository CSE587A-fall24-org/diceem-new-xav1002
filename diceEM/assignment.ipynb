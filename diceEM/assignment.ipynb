{
 "cells": [
  {
   "cell_type": "markdown",
   "metadata": {},
   "source": [
    "# Introduction\n",
    "\n",
    "This is a continuation of the `dice_sample` and `dice_posterior` assignments.\n",
    "In these assignments, we have a bag containing two types of dice with different\n",
    "probabilities of rolling each number (also referred to as a \"face\" of the die).\n",
    "Someone selects a die from the bag at random, rolls it a fixed number of times,\n",
    "reports the outcomes, returns it to the bag, and repeats the process. We refer\n",
    "each selection of a new die as a \"draw\". Here, you will write code to run the EM\n",
    "(Expectation Maximization) algorithm to estimate the parameters of the system --\n",
    "the probability of drawing each die type and the conditional probability of each\n",
    "face given the die type.\n",
    "\n",
    "This notebook provides a brief overview of the assignment but you'll have to\n",
    "read the code for detailed instructions.  \n",
    "\n",
    "All of the graded tests are written such that only two dice are in the bag.\n",
    "Feel free write the code such that it only functions on two dice or to write \n",
    "more general code which can operate on bags of any composition."
   ]
  },
  {
   "cell_type": "markdown",
   "metadata": {},
   "source": [
    "## Die and BagOfDice classes\n",
    "For this assignment, you will use our implementation of these two classes. These \n",
    "lines at the top of the assignment file make those two classes availble from our \n",
    "cse587Autils package:\n",
    "```python\n",
    "from cse587Autils.DiceObjects.Die import Die\n",
    "from cse587Autils.DiceObjects.BagOfDice import BagOfDice\n",
    "```\n",
    "These are more full featured implementations than the code we provided with\n",
    "the `dice-posterior` assignment.\n"
   ]
  },
  {
   "cell_type": "markdown",
   "metadata": {},
   "source": [
    "### Die class\n",
    "Instantiate with a list of the probabilities of rolling each face on the die.\n",
    "The list can be of any length but the probabilities must sum to one.\n",
    "```python\n",
    "biased_die = Die(face_probs=[0.1, 0.2, 0.7])\n",
    "print(biased_die) # prints Die([0.1, 0.2, 0.7])\n",
    "```\n",
    "You can get the number of faces with the <len> function\n",
    "```python\n",
    "len(biased_die) # returns 3\n",
    "```\n",
    "Previously, we used `num_faces` for that. You can also index into the die object\n",
    "directly to get face probabilities:\n",
    "\n",
    "```python\n",
    "biased_die[1] # returns 0.2. Note zero-based indexing.\n",
    "```"
   ]
  },
  {
   "cell_type": "markdown",
   "metadata": {},
   "source": [
    "### BagOfDice class\n",
    "Instantiate with two arguments. The first a list of the probabilies of drawing\n",
    "each die type, which must sum to one. The second is a list of Die objects \n",
    "representing the unique die types in the bag (each type is listed only once)."
   ]
  },
  {
   "cell_type": "code",
   "execution_count": 1,
   "metadata": {},
   "outputs": [
    {
     "name": "stdout",
     "output_type": "stream",
     "text": [
      "BagOfDice(die_priors=[0.25, 0.75], dice=[Die([0.3333, 0.3333, 0.3333]), Die([0.1, 0.2, 0.7])])\n"
     ]
    }
   ],
   "source": [
    "from cse587Autils.DiceObjects.BagOfDice import BagOfDice, Die\n",
    "fair_die = Die([1/3]*3) # In python, this is equivalent to Die[1/3, 1/3, 1/3]\n",
    "biased_die = Die(face_probs=[0.1, 0.2, 0.7])\n",
    "\n",
    "bag = BagOfDice([0.25, 0.75],[fair_die, biased_die])\n",
    "print(bag)"
   ]
  },
  {
   "cell_type": "markdown",
   "metadata": {},
   "source": [
    "Indexing into the bag returns tuple of the corresponding die's probability of\n",
    "being drawn and the die object itself. You can also iterate through the dice."
   ]
  },
  {
   "cell_type": "code",
   "execution_count": 2,
   "metadata": {},
   "outputs": [
    {
     "name": "stdout",
     "output_type": "stream",
     "text": [
      "die prior: 0.25\n",
      "die object: Die([0.3333, 0.3333, 0.3333])\n",
      "die prior: 0.75\n",
      "die object: Die([0.1, 0.2, 0.7])\n"
     ]
    }
   ],
   "source": [
    "bag[1] # Returns (0.75, Die([0.1, 0.2, 0.7]))\n",
    "for prior_die_pair in bag:\n",
    "    die_prior, die = prior_die_pair\n",
    "    print(f'die prior: {die_prior}\\ndie object: {die}')"
   ]
  },
  {
   "cell_type": "markdown",
   "metadata": {},
   "source": [
    "BagOfDice supports the following operations:"
   ]
  },
  {
   "cell_type": "code",
   "execution_count": 3,
   "metadata": {},
   "outputs": [
    {
     "name": "stdout",
     "output_type": "stream",
     "text": [
      "len() returns the number of dice in the bag: 2\n",
      "accessing the die priors: [0.25, 0.75]\n",
      "accessing the Die objects: [Die([0.3333, 0.3333, 0.3333]), Die([0.1, 0.2, 0.7])]\n"
     ]
    }
   ],
   "source": [
    "# len() returns the number of dice in the bag\n",
    "print(f'len() returns the number of dice in the bag: {len(bag)}')\n",
    "\n",
    "# there are getters (and setters) for the die_priors and dice\n",
    "print(f'accessing the die priors: {bag.die_priors}')\n",
    "print(f'accessing the Die objects: {bag.dice}')"
   ]
  },
  {
   "cell_type": "markdown",
   "metadata": {},
   "source": [
    "We can use the BagOfDice to generate sample data. For example, to \n",
    "produce a sample by drawing a die, with replacement, from the bag 5 times \n",
    "and rolling each die drawn 20 times, we can use the draw() method. `draw()`\n",
    "returns a numpy array containg the number of times each face was rolled on a \n",
    "given draw. The array length is the maximum number of faces among all the dice \n",
    "in the bag. Faces that were not rolled (either by chance or because they don't \n",
    "exist on the die) are represented by 0."
   ]
  },
  {
   "cell_type": "code",
   "execution_count": 4,
   "metadata": {},
   "outputs": [
    {
     "name": "stdout",
     "output_type": "stream",
     "text": [
      "[array([ 5,  1, 14]), array([7, 7, 6]), array([5, 9, 6]), array([ 1,  6, 13]), array([ 1,  2, 17])]\n"
     ]
    }
   ],
   "source": [
    "sample_data = [bag.draw(20) for _ in range(5)]\n",
    "print(sample_data)"
   ]
  },
  {
   "cell_type": "markdown",
   "metadata": {},
   "source": [
    "In your EM implementation, you will use a BagOfDice object to store the current \n",
    "estimates of the parameters. On each call to `m_step` you will create a new bag\n",
    "with updated parameter estimations.\n",
    "\n",
    "Your EM algorithm must stop when it converges -- that is, when the change in \n",
    "parameter estimates from one iteration to the next becomes very small. To\n",
    "characterize the change in parameters, we will use the sum of the absolute values\n",
    "of the differences between between the parameters, include die priors and face\n",
    "probabilities. We have implemented this measure for you. To get it, simply use\n",
    "the subtraction operator on two BagOfDice objects, as shown below. This will \n",
    "compare the first die of one bag to the first die of the other, etc. The order\n",
    "of dice is assumed to be the same, but this is not a problem for EM iterations --\n",
    "your estimates for each die will always be in the same order."
   ]
  },
  {
   "cell_type": "code",
   "execution_count": 5,
   "metadata": {},
   "outputs": [
    {
     "name": "stdout",
     "output_type": "stream",
     "text": [
      "bag difference: 0.4\n"
     ]
    }
   ],
   "source": [
    "bag1 = BagOfDice([0.5, 0.5], \n",
    "                 [Die([0.9, 0.1, 0.0]), Die([0.1, 0.1, 0.8])])\n",
    "bag2 = BagOfDice([0.6, 0.4], \n",
    "                 [Die([0.9, 0.1, 0.0]), Die([0.1, 0.2, 0.7])])\n",
    "print(f'bag difference: {bag1 - bag2}')"
   ]
  },
  {
   "cell_type": "markdown",
   "metadata": {},
   "source": [
    "## Input and Output\n",
    "\n",
    "The top level function is called diceEM:\n",
    "\n",
    "```python\n",
    "def diceEM(experiment_data: List[NDArray[np.int_]],\n",
    "           bag_of_dice: BagOfDice,\n",
    "           accuracy: float,\n",
    "           max_iterations: int = int(1e4)) -> [int, BagOfDice]:\n",
    "```\n",
    "\n",
    "where,\n",
    "\n",
    "- `experiment_data`  is a list of draws, each of which gives the results of\n",
    "drawing a die from the bag and rolling it n times and then aggregating the\n",
    "number of times each face appears. It is a list of numpy arrays, where the number \n",
    "of arrays is equal to the number of `draws` that is performed, and the sum of\n",
    "each individual array is the total number of times the die was rolled on that\n",
    "draw.\n",
    "\n",
    "- `max_iterations` similarly sets a threshold at the number of iterations the EM\n",
    "algorithm can run -- it is a good idea to set this to avoid endless, or\n",
    "needlessly long, loops. But, you may need to adjust this value depending on the\n",
    "accuracy. Default is 10000.\n",
    "\n",
    "The number of faces, trials per draw, etc., can all be calculated from the input\n",
    "data and so will not be provided. \n",
    "\n",
    "`diceEM()` implements the outer loop of the EM algorithm. It calls `e_step()`\n",
    "and `m_step()` on each iteration and updates its estimate of the parameters\n",
    "which generated the `experiment_data`. This updated estimate is used in the\n",
    "sebsequent iteration, and so on until the stop conditions are met.\n",
    "\n",
    "The return value of `diceEM()` is the final estimate of the parameters in the \n",
    "form of a `BagOfDice` object.\n",
    "\n",
    "Your `e_step()` code needs to calculate posteriors. You are welcome to use your \n",
    "dice_posterior code. If you did *not* have functioning `dice_posterior()` code, \n",
    "or you question its accuracy after pasting it in to this assignment, the TAs can\n",
    "provide correct dice_posterior code to you.\n",
    "\n",
    "Outlines of the code are provided in the file [assignment.py](assignment.py).\n",
    "Read the comments, too. You need to fill in key parts of the algorithms. Feel \n",
    "free to paste your dice_posterior code in.  \n",
    "\n",
    "**Important**: your code will be graded against the\n",
    "[test_assignment.py](test_assignment.py) code exactly as it is when you received\n",
    "this assignment. You are welcome to change it in your project, but those changes\n",
    "will *not* be reflected when your code is graded. So, we suggest you *do not*\n",
    "change the tests. Otherwise, you will potentially be surprised if your code\n",
    "fails during the automated grading."
   ]
  },
  {
   "cell_type": "markdown",
   "metadata": {},
   "source": [
    "## EM Initialization Tips\n",
    "\n",
    "To initialize the parameter estimates, do not make all the possibilities\n",
    "equally likely. If you do, the algorithm may get stuck and take longer to\n",
    "converge. However, do not make them\n",
    "too far from equally likely, either, to avoid strongly biasing the final result\n",
    "by the initial values. Since there are only two die types, I suggest\n",
    "initializing their probabilities to 0.45 and 0.55. For the probabilities of the\n",
    "faces of each die, I took a random real between 1/n and 2/n, where n is the\n",
    "number of faces. Then I normalized them so they would all add up to one using the call\n",
    "\n",
    "```\n",
    "list_of_numbers / sum(list_of_numbers)\n",
    "```"
   ]
  },
  {
   "cell_type": "markdown",
   "metadata": {},
   "source": [
    "## Experiments and questions\n",
    "\n",
    "### Number of iterations needed for convergence"
   ]
  },
  {
   "cell_type": "markdown",
   "metadata": {},
   "source": [
    "Given a very large dataset, how many iterations does it take to converge to within the required accuracy of 10^-4? How does that change if you tighten the convergence criterion to 10^-6? How about 10^-8. Please make a comment on the general pattern you observe."
   ]
  },
  {
   "cell_type": "code",
   "execution_count": 15,
   "metadata": {},
   "outputs": [
    {
     "data": {
      "text/plain": [
       "(15,\n",
       " BagOfDice(die_priors=[0.40900947091103435, 0.5909905290889658], dice=[Die([0.2964, 0.1988, 0.202, 0.3028]), Die([0.0, 0.1994, 0.1987, 0.6019])]))"
      ]
     },
     "execution_count": 15,
     "metadata": {},
     "output_type": "execute_result"
    }
   ],
   "source": [
    "from importlib import reload\n",
    "import diceEM.assignment as assign\n",
    "reload(assign) # This ensures code is reloaded each time\n",
    "from diceEM.assignment import diceEM, generate_sample\n",
    "\n",
    "experiment_result = generate_sample([4,6], \n",
    "                                    [[0.3, 0.2, 0.2, 0.3], \n",
    "                                     [0, 0.2, 0.2, 0.6]], \n",
    "                                     4000, \n",
    "                                     30)\n",
    "\n",
    "init_bag = BagOfDice([0.75, 0.25], \n",
    "                     [Die([0.1, 0.3, 0.5, 0.1]), \n",
    "                      Die([0.1, 0.3, 0.4, 0.2])])\n",
    "diceEM(experiment_result, init_bag, 10e-10, 100)"
   ]
  },
  {
   "cell_type": "markdown",
   "metadata": {},
   "source": [
    "Answer: It takes 6 iterations to convert with tolerance of 10^-4, 9 iterations with a tolerance of 10^-6, and 12 iterations with a tolerance of 10-8. The overall trend is that as the tolerance decreases, the number of iterations required increases, with the change in tolerance order of magnitude being close to proportional to the number of additional iterations required."
   ]
  },
  {
   "cell_type": "markdown",
   "metadata": {},
   "source": [
    "How much effect does tightening the accuracy requirement by 2 or 4 orders of magnitude have on how well the algorithm identifies the correct parameters?"
   ]
  },
  {
   "cell_type": "markdown",
   "metadata": {},
   "source": [
    "Answer: The effect of tightening the accuracy requirement by 2-4 orders of magnitude doesn't appear to have a significant effect on the accuracy to which the algorithm identifies the correct parameters."
   ]
  },
  {
   "cell_type": "markdown",
   "metadata": {},
   "source": [
    "Now let's change the parameters of the sample generated as shown below. \n",
    "\n",
    "How does this affect the number of iterations required to make the accuracy goal? Why do you think that is?"
   ]
  },
  {
   "cell_type": "code",
   "execution_count": 17,
   "metadata": {},
   "outputs": [
    {
     "data": {
      "text/plain": [
       "(13,\n",
       " BagOfDice(die_priors=[0.40426274281985464, 0.5957372571801454], dice=[Die([0.2972, 0.1988, 0.304, 0.2]), Die([0.1004, 0.1993, 0.1998, 0.5005])]))"
      ]
     },
     "execution_count": 17,
     "metadata": {},
     "output_type": "execute_result"
    }
   ],
   "source": [
    "from importlib import reload\n",
    "import diceEM.assignment as assign\n",
    "reload(assign) # This ensures code is reloaded each time\n",
    "from diceEM.assignment import diceEM, generate_sample\n",
    "\n",
    "experiment_result = generate_sample([4, 6], [[0.3, 0.2, 0.3, 0.2], \n",
    "                                             [0.1, 0.2, 0.2, 0.5]], \n",
    "                                             4000, \n",
    "                                             30)\n",
    "\n",
    "init_bag = BagOfDice([0.75, 0.25], [Die([0.1, 0.3, 0.5, 0.1]), \n",
    "                                    Die([0.1, 0.3, 0.4, 0.2])])\n",
    "\n",
    "diceEM(experiment_result, init_bag, 10e-6, 100)"
   ]
  },
  {
   "cell_type": "markdown",
   "metadata": {},
   "source": [
    "Ansewer: This change in the parameters of the system caused the number of required iterations to increase compared to the original set of parameters for a given accuracy tolerance. It is likely due to the parameters having been shifted \"further\" from our initial guesses in the solution space, thus requiring more computational iterations for the algorithm to find the appropriate parameters."
   ]
  },
  {
   "cell_type": "markdown",
   "metadata": {},
   "source": [
    "### Sample size\n",
    "\n",
    "1. Consider the following experiment."
   ]
  },
  {
   "cell_type": "code",
   "execution_count": 18,
   "metadata": {},
   "outputs": [
    {
     "name": "stdout",
     "output_type": "stream",
     "text": [
      "BagOfDice(die_priors=[0.40254223047228077, 0.5974577695277191], dice=[Die([0.2986, 0.3027, 0.2015, 0.1972]), Die([0.1988, 0.1986, 0.2011, 0.4015])])\n"
     ]
    }
   ],
   "source": [
    "from importlib import reload\n",
    "import diceEM.assignment as assign\n",
    "reload(assign) # This ensures code is reloaded each time\n",
    "from diceEM.assignment import diceEM, generate_sample\n",
    "\n",
    "face_probs = [[0.3, 0.3, 0.2, 0.2],\n",
    "              [0.2, 0.2, 0.2, 0.4]]\n",
    "\n",
    "experiment_result = generate_sample([4, 6], face_probs, 6000, 30)\n",
    "init_bag = BagOfDice([0.75, 0.25], [Die([0.1, 0.3, 0.5, 0.1]), \n",
    "                                    Die([0.1, 0.3, 0.4, 0.2])])\n",
    "\n",
    "inference_result = diceEM(experiment_result, init_bag, 10e-4, 100)\n",
    "print(inference_result[1])"
   ]
  },
  {
   "cell_type": "markdown",
   "metadata": {},
   "source": [
    "- How many die rolls are in this sample? "
   ]
  },
  {
   "cell_type": "markdown",
   "metadata": {},
   "source": [
    "Answer: total rolls = 6000*30 = 180000, 30 rolls per draw"
   ]
  },
  {
   "cell_type": "markdown",
   "metadata": {},
   "source": [
    "- Try reducing the number of draws/trials while keeping the number of rolls constant. How many draws do you need with 30 rolls each to get the right answer consistently, to within two decimal places? "
   ]
  },
  {
   "cell_type": "code",
   "execution_count": 27,
   "metadata": {},
   "outputs": [
    {
     "name": "stdout",
     "output_type": "stream",
     "text": [
      "(24, BagOfDice(die_priors=[0.4005450845162482, 0.5994549154837517], dice=[Die([0.2985, 0.3016, 0.1994, 0.2005]), Die([0.2019, 0.198, 0.2004, 0.3997])]))\n",
      "(22, BagOfDice(die_priors=[0.4011988473328924, 0.5988011526671075], dice=[Die([0.3036, 0.2978, 0.1989, 0.1997]), Die([0.2008, 0.1967, 0.201, 0.4015])]))\n",
      "(23, BagOfDice(die_priors=[0.3965970212148765, 0.6034029787851235], dice=[Die([0.3046, 0.2996, 0.2011, 0.1946]), Die([0.2026, 0.203, 0.1982, 0.3962])]))\n",
      "(26, BagOfDice(die_priors=[0.4064879991507162, 0.5935120008492837], dice=[Die([0.297, 0.2974, 0.2004, 0.2052]), Die([0.202, 0.2002, 0.1988, 0.399])]))\n",
      "(23, BagOfDice(die_priors=[0.39143253022630453, 0.6085674697736954], dice=[Die([0.3007, 0.3001, 0.2007, 0.1985]), Die([0.2039, 0.1991, 0.2003, 0.3966])]))\n",
      "(23, BagOfDice(die_priors=[0.392936372537127, 0.607063627462873], dice=[Die([0.2964, 0.3015, 0.1992, 0.203]), Die([0.1992, 0.1968, 0.2005, 0.4034])]))\n",
      "(24, BagOfDice(die_priors=[0.3927458893537673, 0.6072541106462327], dice=[Die([0.3006, 0.3011, 0.2, 0.1984]), Die([0.2019, 0.202, 0.1976, 0.3985])]))\n",
      "(26, BagOfDice(die_priors=[0.4072214147787987, 0.5927785852212014], dice=[Die([0.297, 0.3001, 0.1987, 0.2042]), Die([0.2005, 0.1998, 0.2002, 0.3994])]))\n",
      "(24, BagOfDice(die_priors=[0.4047251024797159, 0.5952748975202842], dice=[Die([0.301, 0.3008, 0.2006, 0.1975]), Die([0.2007, 0.2006, 0.202, 0.3967])]))\n",
      "(24, BagOfDice(die_priors=[0.40243658303996743, 0.5975634169600327], dice=[Die([0.2991, 0.3, 0.1994, 0.2015]), Die([0.1977, 0.2012, 0.1992, 0.4018])]))\n"
     ]
    }
   ],
   "source": [
    "for data_seed in range(10):\n",
    "    data = generate_sample([4, 6], face_probs, 5000, 30, seed=data_seed)\n",
    "    print(diceEM(data, init_bag, 10e-4, 100))"
   ]
  },
  {
   "cell_type": "markdown",
   "metadata": {},
   "source": [
    "Answer: Approximately 5000 draws per trial are required to consistently achieve a reasonably accurate answer."
   ]
  },
  {
   "cell_type": "markdown",
   "metadata": {},
   "source": [
    "- If you don't have quite enough draws/trials, which parameters tend to be off?"
   ]
  },
  {
   "cell_type": "markdown",
   "metadata": {},
   "source": [
    "The priors tended to be less accurately predicted than the dice face probabilities."
   ]
  },
  {
   "cell_type": "markdown",
   "metadata": {},
   "source": [
    "- Now try changing the number of rolls per trial to 50. How many trials do you \n",
    "need to consistently get the right  answer consistently, to within two decimal places? "
   ]
  },
  {
   "cell_type": "code",
   "execution_count": 29,
   "metadata": {},
   "outputs": [
    {
     "name": "stdout",
     "output_type": "stream",
     "text": [
      "(30, BagOfDice(die_priors=[0.4051609757470375, 0.5948390242529624], dice=[Die([0.3007, 0.2987, 0.1996, 0.2009]), Die([0.1987, 0.1984, 0.2021, 0.4008])]))\n",
      "(29, BagOfDice(die_priors=[0.40428869689123037, 0.5957113031087696], dice=[Die([0.3006, 0.2974, 0.2029, 0.1991]), Die([0.2014, 0.1977, 0.2003, 0.4006])]))\n",
      "(30, BagOfDice(die_priors=[0.4116782907344576, 0.5883217092655423], dice=[Die([0.3034, 0.2967, 0.2015, 0.1984]), Die([0.2019, 0.1999, 0.1983, 0.3999])]))\n",
      "(30, BagOfDice(die_priors=[0.4129523812140031, 0.5870476187859969], dice=[Die([0.2996, 0.2984, 0.1976, 0.2044]), Die([0.1995, 0.2008, 0.1986, 0.4011])]))\n",
      "(28, BagOfDice(die_priors=[0.39789092981800445, 0.6021090701819957], dice=[Die([0.3014, 0.3002, 0.1989, 0.1995]), Die([0.2021, 0.1979, 0.2019, 0.3981])]))\n",
      "(30, BagOfDice(die_priors=[0.39415258031312206, 0.6058474196868779], dice=[Die([0.2987, 0.299, 0.2023, 0.2]), Die([0.2, 0.2001, 0.1998, 0.4001])]))\n",
      "(30, BagOfDice(die_priors=[0.3893492831798008, 0.6106507168201993], dice=[Die([0.3, 0.3021, 0.2002, 0.1977]), Die([0.2031, 0.2008, 0.1984, 0.3977])]))\n",
      "(28, BagOfDice(die_priors=[0.4069724426691596, 0.5930275573308403], dice=[Die([0.2997, 0.3003, 0.2015, 0.1985]), Die([0.1987, 0.1991, 0.2007, 0.4014])]))\n",
      "(29, BagOfDice(die_priors=[0.40849751428686226, 0.5915024857131377], dice=[Die([0.2993, 0.3041, 0.1983, 0.1983]), Die([0.2009, 0.1999, 0.1983, 0.4009])]))\n",
      "(28, BagOfDice(die_priors=[0.39739039254881603, 0.6026096074511839], dice=[Die([0.2993, 0.3026, 0.1988, 0.1993]), Die([0.1984, 0.2003, 0.1994, 0.4018])]))\n"
     ]
    }
   ],
   "source": [
    "for data_seed in range(10):\n",
    "    data = generate_sample([4, 6], face_probs, 4000, 50, seed=data_seed)\n",
    "    print(diceEM(data, init_bag, 10e-8, 100))"
   ]
  },
  {
   "cell_type": "markdown",
   "metadata": {},
   "source": [
    "Answer: Approximately 4000 draws per trial were required to consistently obtain reasonably accurate answers."
   ]
  },
  {
   "cell_type": "markdown",
   "metadata": {},
   "source": [
    "- Does tightening the convergence criterion make the results substantially more accurate? "
   ]
  },
  {
   "cell_type": "markdown",
   "metadata": {},
   "source": [
    "Answer: Tightening the convergence criterion makes the results slightly more accurate, but not substantially."
   ]
  }
 ],
 "metadata": {
  "kernelspec": {
   "display_name": ".venv",
   "language": "python",
   "name": "python3"
  },
  "language_info": {
   "codemirror_mode": {
    "name": "ipython",
    "version": 3
   },
   "file_extension": ".py",
   "mimetype": "text/x-python",
   "name": "python",
   "nbconvert_exporter": "python",
   "pygments_lexer": "ipython3",
   "version": "3.10.12"
  }
 },
 "nbformat": 4,
 "nbformat_minor": 2
}
